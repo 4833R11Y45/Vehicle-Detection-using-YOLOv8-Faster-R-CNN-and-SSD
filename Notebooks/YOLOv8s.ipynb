{
  "nbformat": 4,
  "nbformat_minor": 0,
  "metadata": {
    "colab": {
      "provenance": [],
      "toc_visible": true
    },
    "kernelspec": {
      "name": "python3",
      "display_name": "Python 3"
    },
    "language_info": {
      "name": "python"
    }
  },
  "cells": [
    {
      "cell_type": "markdown",
      "source": [
        "# **Training YOLOv8s with Custom Dataset**\n",
        "\n",
        "This notebook outlines the steps for training a YOLOv8s model, including dataset preparation, model training, and evaluation. Follow the steps sequentially for successful implementation."
      ],
      "metadata": {
        "id": "-ILtrrxGrfCy"
      }
    },
    {
      "cell_type": "markdown",
      "source": [
        "## Step 1: Dataset Preparation\n",
        "\n",
        "Refer to the following video for guidelines on how to obtain, label (in YOLOv8 format), and use a dataset for YOLOv8s model training: [YOLOv8 Dataset Preparation Video](https://youtu.be/O-ZPxTpb2Yg?feature=shared)\n"
      ],
      "metadata": {
        "id": "KtM2u2rXr-Vv"
      }
    },
    {
      "cell_type": "markdown",
      "source": [
        "### Cell for Downloading Dataset\n",
        "\n",
        "Use the cell below to paste the code for downloading your dataset from Roboflow or another source."
      ],
      "metadata": {
        "id": "bfdy3Nl2spwj"
      }
    },
    {
      "cell_type": "code",
      "source": [
        "# Paste your dataset download code here\n"
      ],
      "metadata": {
        "id": "LW4-h2Qosy8z"
      },
      "execution_count": null,
      "outputs": []
    },
    {
      "cell_type": "markdown",
      "source": [
        "## Step 2: Install Ultralytics Library\n",
        "\n",
        "To work with YOLOv8, you need to install the ultralytics library. Run the following command:"
      ],
      "metadata": {
        "id": "J3gKmUWrs-AL"
      }
    },
    {
      "cell_type": "code",
      "source": [
        "!pip install ultralytics"
      ],
      "metadata": {
        "id": "5XWXro6qtLyF"
      },
      "execution_count": null,
      "outputs": []
    },
    {
      "cell_type": "markdown",
      "source": [
        "## Step 3: Enable GPU on Google Colab\n",
        "\n",
        "If you're using Google Colab, follow this guide to enable GPU acceleration: [Enabling GPU in Google Colab](https://www.geeksforgeeks.org/how-to-use-gpu-in-google-colab/)"
      ],
      "metadata": {
        "id": "4bqOxuavtZul"
      }
    },
    {
      "cell_type": "markdown",
      "source": [
        "## Step 4: Training YOLOv8\n",
        "\n",
        "**Train with Pretrained Weights**\n",
        "\n",
        "Use the following code to train YOLOv8 using pretrained weights of YOLOv8s. Set the epochs and learning rate (**lr0**) parameters according to your needs."
      ],
      "metadata": {
        "id": "x66PoT94t2Ox"
      }
    },
    {
      "cell_type": "code",
      "source": [
        "from ultralytics import YOLO\n",
        "model = YOLO(\"yolov8s.pt\")\n",
        "result = model.train(data=r\"path/to/data.yaml\", imgsz=640, epochs=100, lr0=0.025)"
      ],
      "metadata": {
        "id": "lEPO_PkBuQU4"
      },
      "execution_count": null,
      "outputs": []
    },
    {
      "cell_type": "markdown",
      "source": [
        "### Continue Training from Checkpoint\n",
        "\n",
        "To continue training from a saved checkpoint, use the code below. Replace the path with the location of your last checkpoint weights."
      ],
      "metadata": {
        "id": "URijTrq5ugsb"
      }
    },
    {
      "cell_type": "code",
      "source": [
        "from ultralytics import YOLO\n",
        "model = YOLO(r\"path/to/last.pt\")\n",
        "results = model.train(resume=True)"
      ],
      "metadata": {
        "id": "25sR0xM6uqAX"
      },
      "execution_count": null,
      "outputs": []
    },
    {
      "cell_type": "markdown",
      "source": [
        "## Step 5: Model Evaluation\n",
        "\n",
        "After training, evaluate the model using the following code. Replace the path with the location of your best model weights."
      ],
      "metadata": {
        "id": "i5hinMnkvRdI"
      }
    },
    {
      "cell_type": "code",
      "source": [
        "from ultralytics import YOLO\n",
        "model = YOLO(r\"path/to/best.pt\")\n",
        "metrics = model.val()"
      ],
      "metadata": {
        "id": "e22hecjcvYAd"
      },
      "execution_count": null,
      "outputs": []
    },
    {
      "cell_type": "markdown",
      "source": [
        "## Step 6: Running Inference\n",
        "\n",
        "Finally, run inference using your trained YOLOv8s model. Set the confidence threshold (**conf**) as needed."
      ],
      "metadata": {
        "id": "7WHmc9pUvdwn"
      }
    },
    {
      "cell_type": "code",
      "source": [
        "from ultralytics import YOLO\n",
        "model = YOLO(r\"path/to/best.pt\")\n",
        "model.predict(r\"path/to/test/img/video\", save=True, imgsz=640, conf=0.8)"
      ],
      "metadata": {
        "id": "csNfvHdHvpBz"
      },
      "execution_count": null,
      "outputs": []
    }
  ]
}